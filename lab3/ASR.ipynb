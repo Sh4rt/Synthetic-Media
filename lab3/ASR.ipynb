{
  "nbformat": 4,
  "nbformat_minor": 0,
  "metadata": {
    "colab": {
      "provenance": []
    },
    "kernelspec": {
      "name": "python3",
      "display_name": "Python 3"
    },
    "language_info": {
      "name": "python"
    }
  },
  "cells": [
    {
      "cell_type": "markdown",
      "source": [
        "# ASR"
      ],
      "metadata": {
        "id": "uknJQ-Sa5Ad-"
      }
    },
    {
      "cell_type": "code",
      "execution_count": 1,
      "metadata": {
        "colab": {
          "base_uri": "https://localhost:8080/"
        },
        "id": "hfo-tWfZWALo",
        "outputId": "ac365fdf-7f6f-46fb-a097-dc6e49c446f0"
      },
      "outputs": [
        {
          "output_type": "stream",
          "name": "stdout",
          "text": [
            "Collecting git+https://github.com/openai/whisper.git\n",
            "  Cloning https://github.com/openai/whisper.git to /tmp/pip-req-build-qo9klrjk\n",
            "  Running command git clone --filter=blob:none --quiet https://github.com/openai/whisper.git /tmp/pip-req-build-qo9klrjk\n",
            "  Resolved https://github.com/openai/whisper.git to commit b38a1f20f4b23f3f3099af2c3e0ca95627276ddf\n",
            "  Installing build dependencies ... \u001b[?25l\u001b[?25hdone\n",
            "  Getting requirements to build wheel ... \u001b[?25l\u001b[?25hdone\n",
            "  Preparing metadata (pyproject.toml) ... \u001b[?25l\u001b[?25hdone\n",
            "Requirement already satisfied: triton==2.0.0 in /usr/local/lib/python3.10/dist-packages (from openai-whisper==20230918) (2.0.0)\n",
            "Requirement already satisfied: numba in /usr/local/lib/python3.10/dist-packages (from openai-whisper==20230918) (0.56.4)\n",
            "Requirement already satisfied: numpy in /usr/local/lib/python3.10/dist-packages (from openai-whisper==20230918) (1.23.5)\n",
            "Requirement already satisfied: torch in /usr/local/lib/python3.10/dist-packages (from openai-whisper==20230918) (2.0.1)\n",
            "Requirement already satisfied: tqdm in /usr/local/lib/python3.10/dist-packages (from openai-whisper==20230918) (4.66.1)\n",
            "Requirement already satisfied: more-itertools in /usr/local/lib/python3.10/dist-packages (from openai-whisper==20230918) (10.1.0)\n",
            "Requirement already satisfied: tiktoken==0.3.3 in /usr/local/lib/python3.10/dist-packages (from openai-whisper==20230918) (0.3.3)\n",
            "Requirement already satisfied: regex>=2022.1.18 in /usr/local/lib/python3.10/dist-packages (from tiktoken==0.3.3->openai-whisper==20230918) (2023.6.3)\n",
            "Requirement already satisfied: requests>=2.26.0 in /usr/local/lib/python3.10/dist-packages (from tiktoken==0.3.3->openai-whisper==20230918) (2.31.0)\n",
            "Requirement already satisfied: cmake in /usr/local/lib/python3.10/dist-packages (from triton==2.0.0->openai-whisper==20230918) (3.27.7)\n",
            "Requirement already satisfied: filelock in /usr/local/lib/python3.10/dist-packages (from triton==2.0.0->openai-whisper==20230918) (3.12.4)\n",
            "Requirement already satisfied: lit in /usr/local/lib/python3.10/dist-packages (from triton==2.0.0->openai-whisper==20230918) (17.0.4)\n",
            "Requirement already satisfied: llvmlite<0.40,>=0.39.0dev0 in /usr/local/lib/python3.10/dist-packages (from numba->openai-whisper==20230918) (0.39.1)\n",
            "Requirement already satisfied: setuptools in /usr/local/lib/python3.10/dist-packages (from numba->openai-whisper==20230918) (67.7.2)\n",
            "Requirement already satisfied: typing-extensions in /usr/local/lib/python3.10/dist-packages (from torch->openai-whisper==20230918) (4.5.0)\n",
            "Requirement already satisfied: sympy in /usr/local/lib/python3.10/dist-packages (from torch->openai-whisper==20230918) (1.12)\n",
            "Requirement already satisfied: networkx in /usr/local/lib/python3.10/dist-packages (from torch->openai-whisper==20230918) (3.2)\n",
            "Requirement already satisfied: jinja2 in /usr/local/lib/python3.10/dist-packages (from torch->openai-whisper==20230918) (3.1.2)\n",
            "Requirement already satisfied: nvidia-cuda-nvrtc-cu11==11.7.99 in /usr/local/lib/python3.10/dist-packages (from torch->openai-whisper==20230918) (11.7.99)\n",
            "Requirement already satisfied: nvidia-cuda-runtime-cu11==11.7.99 in /usr/local/lib/python3.10/dist-packages (from torch->openai-whisper==20230918) (11.7.99)\n",
            "Requirement already satisfied: nvidia-cuda-cupti-cu11==11.7.101 in /usr/local/lib/python3.10/dist-packages (from torch->openai-whisper==20230918) (11.7.101)\n",
            "Requirement already satisfied: nvidia-cudnn-cu11==8.5.0.96 in /usr/local/lib/python3.10/dist-packages (from torch->openai-whisper==20230918) (8.5.0.96)\n",
            "Requirement already satisfied: nvidia-cublas-cu11==11.10.3.66 in /usr/local/lib/python3.10/dist-packages (from torch->openai-whisper==20230918) (11.10.3.66)\n",
            "Requirement already satisfied: nvidia-cufft-cu11==10.9.0.58 in /usr/local/lib/python3.10/dist-packages (from torch->openai-whisper==20230918) (10.9.0.58)\n",
            "Requirement already satisfied: nvidia-curand-cu11==10.2.10.91 in /usr/local/lib/python3.10/dist-packages (from torch->openai-whisper==20230918) (10.2.10.91)\n",
            "Requirement already satisfied: nvidia-cusolver-cu11==11.4.0.1 in /usr/local/lib/python3.10/dist-packages (from torch->openai-whisper==20230918) (11.4.0.1)\n",
            "Requirement already satisfied: nvidia-cusparse-cu11==11.7.4.91 in /usr/local/lib/python3.10/dist-packages (from torch->openai-whisper==20230918) (11.7.4.91)\n",
            "Requirement already satisfied: nvidia-nccl-cu11==2.14.3 in /usr/local/lib/python3.10/dist-packages (from torch->openai-whisper==20230918) (2.14.3)\n",
            "Requirement already satisfied: nvidia-nvtx-cu11==11.7.91 in /usr/local/lib/python3.10/dist-packages (from torch->openai-whisper==20230918) (11.7.91)\n",
            "Requirement already satisfied: wheel in /usr/local/lib/python3.10/dist-packages (from nvidia-cublas-cu11==11.10.3.66->torch->openai-whisper==20230918) (0.41.2)\n",
            "Requirement already satisfied: charset-normalizer<4,>=2 in /usr/local/lib/python3.10/dist-packages (from requests>=2.26.0->tiktoken==0.3.3->openai-whisper==20230918) (3.3.1)\n",
            "Requirement already satisfied: idna<4,>=2.5 in /usr/local/lib/python3.10/dist-packages (from requests>=2.26.0->tiktoken==0.3.3->openai-whisper==20230918) (3.4)\n",
            "Requirement already satisfied: urllib3<3,>=1.21.1 in /usr/local/lib/python3.10/dist-packages (from requests>=2.26.0->tiktoken==0.3.3->openai-whisper==20230918) (2.0.7)\n",
            "Requirement already satisfied: certifi>=2017.4.17 in /usr/local/lib/python3.10/dist-packages (from requests>=2.26.0->tiktoken==0.3.3->openai-whisper==20230918) (2023.7.22)\n",
            "Requirement already satisfied: MarkupSafe>=2.0 in /usr/local/lib/python3.10/dist-packages (from jinja2->torch->openai-whisper==20230918) (2.1.3)\n",
            "Requirement already satisfied: mpmath>=0.19 in /usr/local/lib/python3.10/dist-packages (from sympy->torch->openai-whisper==20230918) (1.3.0)\n"
          ]
        }
      ],
      "source": [
        "!pip install git+https://github.com/openai/whisper.git"
      ]
    },
    {
      "cell_type": "code",
      "source": [
        "!pip install jiwer"
      ],
      "metadata": {
        "colab": {
          "base_uri": "https://localhost:8080/"
        },
        "id": "-bDWQgJmO424",
        "outputId": "68dcbfc9-58d9-4646-c4b0-f41da9b46924"
      },
      "execution_count": 2,
      "outputs": [
        {
          "output_type": "stream",
          "name": "stdout",
          "text": [
            "Requirement already satisfied: jiwer in /usr/local/lib/python3.10/dist-packages (3.0.3)\n",
            "Requirement already satisfied: click<9.0.0,>=8.1.3 in /usr/local/lib/python3.10/dist-packages (from jiwer) (8.1.7)\n",
            "Requirement already satisfied: rapidfuzz<4,>=3 in /usr/local/lib/python3.10/dist-packages (from jiwer) (3.5.2)\n"
          ]
        }
      ]
    },
    {
      "cell_type": "markdown",
      "source": [
        "Для выполнения задания были выбраны следущие видеоролики\n",
        "- https://www.youtube.com/watch?v=drDFiwyuEs4&t=38s\n",
        "- https://www.youtube.com/watch?v=Gf98DXQ9foI&t=127s\n",
        "- https://www.youtube.com/watch?v=u1owwKfEsi8&t=181s\n",
        "- https://www.youtube.com/watch?v=2uoDjEN9eaM&t=129s\n",
        "- https://www.youtube.com/watch?v=wOrCkhTlgcQ&t=236s\n",
        "\n",
        "В которых с помощью сервиса https://mp3cut.net/ru/ было вырезано по 2 фрагмента,затем все 10 дорожек с аудио соеденены с спомощью следущего сервиса https://clideo.com/ru/merge-audio"
      ],
      "metadata": {
        "id": "LHoK5aZCBz7T"
      }
    },
    {
      "cell_type": "code",
      "source": [
        "from google.colab import drive\n",
        "drive.mount('/content/mydrive')"
      ],
      "metadata": {
        "colab": {
          "base_uri": "https://localhost:8080/"
        },
        "id": "QEXUmx0rWCGm",
        "outputId": "6359135a-1df8-4cf1-e3ba-31257316b727"
      },
      "execution_count": 3,
      "outputs": [
        {
          "output_type": "stream",
          "name": "stdout",
          "text": [
            "Drive already mounted at /content/mydrive; to attempt to forcibly remount, call drive.mount(\"/content/mydrive\", force_remount=True).\n"
          ]
        }
      ]
    },
    {
      "cell_type": "code",
      "source": [
        "import os\n",
        "import whisper\n",
        "from jiwer import wer,cer\n",
        "\n",
        "os.chdir(\"/content/mydrive/MyDrive/audio\")"
      ],
      "metadata": {
        "id": "kzIjDRrb0dFZ"
      },
      "execution_count": 4,
      "outputs": []
    },
    {
      "cell_type": "code",
      "source": [
        "model_base = whisper.load_model(\"base\")\n",
        "model_large_v2 = whisper.load_model(\"large-v2\")"
      ],
      "metadata": {
        "id": "23JdzLk754kJ"
      },
      "execution_count": 5,
      "outputs": []
    },
    {
      "cell_type": "code",
      "source": [
        "result_base = model_base.transcribe(\"All.mp3\")\n",
        "text_base=result_base[\"text\"]\n",
        "result_large_v2 = model_large_v2.transcribe(\"All.mp3\")\n",
        "text_large_v2=result_large_v2[\"text\"]"
      ],
      "metadata": {
        "colab": {
          "base_uri": "https://localhost:8080/"
        },
        "id": "Nfg3UZRGDt6b",
        "outputId": "ee67af06-85a2-4da0-f8c8-c952c09a19d4"
      },
      "execution_count": 6,
      "outputs": [
        {
          "output_type": "stream",
          "name": "stderr",
          "text": [
            "/usr/local/lib/python3.10/dist-packages/whisper/transcribe.py:114: UserWarning: FP16 is not supported on CPU; using FP32 instead\n",
            "  warnings.warn(\"FP16 is not supported on CPU; using FP32 instead\")\n",
            "/usr/local/lib/python3.10/dist-packages/whisper/transcribe.py:114: UserWarning: FP16 is not supported on CPU; using FP32 instead\n",
            "  warnings.warn(\"FP16 is not supported on CPU; using FP32 instead\")\n"
          ]
        }
      ]
    },
    {
      "cell_type": "code",
      "source": [
        "text_base"
      ],
      "metadata": {
        "colab": {
          "base_uri": "https://localhost:8080/",
          "height": 104
        },
        "id": "11BBb2K2Pqot",
        "outputId": "5b11e917-49a0-4fe5-a196-164e84331cef"
      },
      "execution_count": 10,
      "outputs": [
        {
          "output_type": "execute_result",
          "data": {
            "text/plain": [
              "' В 2019 году спустя более 3000 лет после того как он был похоронен, тот он Хомон был извлечен из захоронения. И следователи хотели восстановить захоронение перед открытием большого египетского музея в 2020 году, но открытия было отложенные за пандемии. Дью Мексика, но участки шоссе 66 есть дорога, которая играет песню прекрасная Америка в сети РАС, когда пони проезжают машины, но есть одна загвоздка. Чтобы услышать песню, водители должны превышать ограничения скорости 45 млч. Разрезанный камень. На территории соудовской оравии в 8 часах есть ды от ее стариться, есть аинстинная скальная образования под названием Альна Слава. Пока вы думаете на дответом, покажу вам еще один загадочный валун, находится у нуженив жаркой оравийской пустыне о вмоньяме, является одно из ее главной дыр. На Луне железо сохраняется в первозданном виде и нержавей, потому что там нет кислорода. Но буквально пару недель назад ученые сделали неожиданное открытие. Кстати говоря, в одной только галактике млечный путь может быть около 6 млрд в планет земного типа. Последние данные показали, что у каждой пятой солнце подобной звезды в зоне обитаемости может быть по крайней мере одна планета. Миланистическая леса. Примысли о самых красивых диких животных лисы вряд ли приходят на ум первыми, но видели ли вы-таки особей. Это невероятно редкая и великолепная крестовка, которая раньше часто встречалась в Америке, но вид почти истребили в 19 веке из-за спроса на его уникальный мяг. Как королевский гипарт. Заметели что-нибудь необычное в этом гипарде. При смотритесь к его великолепной шкуре и сравните с более заурядными сародичами. И вы поймете, почему королевские гипарды так высоко цениться. Эти большие кошки под вид обычного гипарда с редкой мутацией, которая дает мягкремого цвета с большими пятными и тремя темными широкими полосами, тянущимися от шей до самого хвоста. Брошеный корабль. Начнём мы с история об одном французском корабле под названием Босс-400. Вернее это был не совсем корабль, а баржа с краном. В 1994 году из-за сильнейшего шторма она села на мель. И как бы люди не пытались исправить положение, какой бы помощи буксировочной лодки они не прибегали, справиться со столь массивным судном им не удалось. Каменная колокольня среди глупоководного озера Ризия в живописнейшем районе Италии приводит туристов в замешательство, а у местных жителей вызывает на столь гию и восхищению, ведь она находится в воде более чем 70 лет.'"
            ],
            "application/vnd.google.colaboratory.intrinsic+json": {
              "type": "string"
            }
          },
          "metadata": {},
          "execution_count": 10
        }
      ]
    },
    {
      "cell_type": "code",
      "source": [
        "text_large_v2"
      ],
      "metadata": {
        "colab": {
          "base_uri": "https://localhost:8080/",
          "height": 104
        },
        "id": "66Lja-_4PtqH",
        "outputId": "d7db3acf-a543-4c35-aa7d-915d96de829c"
      },
      "execution_count": 11,
      "outputs": [
        {
          "output_type": "execute_result",
          "data": {
            "text/plain": [
              "' В 2019 году, спустя более 3000 лет после того, как он был похоронен, тотонхамон был извлечен из захоронения. Исследователи хотели восстановить захоронение перед открытием Большого Египетского музея в 2020 году, но открытие было отложено из-за пандемии. Дью Мексико, на участке шоссе 66 есть дорога, которой играет песню «Прекрасная Америка» всякий раз, когда по ней проезжают машины. Но есть одна загвоздка. Чтобы услышать песню, водители должны превышать ограничение скорости 45 миль в час. Разрезанный камень. На территории Саудовской Аравии, в 8 часах езды от её столицы, есть таинственное скальное образование под названием Аль Наслаам. Пока вы думаете над ответом, покажу вам ещё один загадочный валун. Находится он уже не в жаркой арабийской пустыне, а в Маньяме, и является одной из её главных достопримечательностей. На Луне железо сохраняется в первозданном виде и не ржавеет, потому что там нет кислорода. Но буквально пару недель назад учёные сделали неожиданное открытие. Кстати говоря, в одной только галактике Млечный Путь может быть около 6 миллиардов планет земного типа. Последние данные показали, что у каждой пятой солнцеподобной звезды в зоне обитаемости может быть по крайней мере одна планета. Меланистическая леса. При мысли о самых красивых диких животных лисы вряд ли приходят на ум первыми, но видели ли вы таких особей? Это невероятно редкая и великолепная крестовка, которая раньше часто встречалась в Америке, но вид почти истребили в 19 веке из-за спроса на его уникальный мех. Королевский гепард. Заметили что-нибудь необычное в этом гепарде? Присмотритесь к его великолепной шкуре и сравните с более заурядными сородичами, и вы поймёте, почему королевские гепарды так высоко ценятся. Эти большие кошки под вид обычного гепарда с редкой мутацией, которая даёт мех кремового цвета с большими пятнами и тремя тёмными широкими полосами, тянущимися от шеи до самого хвоста. Брошенный корабль. Начнём мы с истории об одном французском корабле под названием Босс 400. Вернее это был не совсем корабль, а баржа с краном. В 1994 году из-за сильнейшего шторма она села на мель, и как бы люди не пытались исправить положение, какой бы помощи буксировочной лодке они не прибегали, справиться со столь массивным судном им не удалось. Каменная колокольня среди глубоководного озера Резия в живописнейшем районе Италии приводит туристов в замешательство, а у местных жителей вызывает ностальгию и восхищению, ведь она находится в воде более чем 70 лет.'"
            ],
            "application/vnd.google.colaboratory.intrinsic+json": {
              "type": "string"
            }
          },
          "metadata": {},
          "execution_count": 11
        }
      ]
    },
    {
      "cell_type": "code",
      "source": [
        "with open(\"ASR.txt\", \"r\") as file:\n",
        "    ASR=file.read()"
      ],
      "metadata": {
        "id": "VQXpaaAZN-UY"
      },
      "execution_count": 12,
      "outputs": []
    },
    {
      "cell_type": "code",
      "source": [
        "ASR"
      ],
      "metadata": {
        "colab": {
          "base_uri": "https://localhost:8080/",
          "height": 104
        },
        "id": "H2xzrlpoONDN",
        "outputId": "5203cc22-ebf7-449a-b482-763c38007916"
      },
      "execution_count": 13,
      "outputs": [
        {
          "output_type": "execute_result",
          "data": {
            "text/plain": [
              "'В 2019 году, спустя более 3000 лет после того, как он был похоронен, Тутанхамон был извлечен из захоронения. Исследователи хотели восстановить захоронение перед открытием большого Египетского музея в 2020 году, но открытие было отложено из-за пандемии. Нью-Мексико, на участке шоссе 66, есть дорога, которая играет песню «Прекрасная Америка» всякий раз, когда по ней проезжают машины. Но есть одна загвоздка. Чтобы услышать песню, водители должны превышать ограничение скорости 45 миль в час. Разрезанный камень. На территории Саудовской Аравии, в 8 часах езды от её столицы, есть таинственное скальное образование под названием Аль-Наслаа. Пока вы думаете над ответом, покажу вам ещё один загадочный валун, находится он уже не в жаркой Аравийской пустыне, а в Маньяме и является одной из её главных достопримечательностей. На Луне, железо сохраняется в первозданном виде и не ржавеет, потому что там нет кислорода. Но буквально пару недель назад, учёные сделали неожиданное открытие. Кстати говоря, в одной только галактике Млечный Путь, может быть около 6 миллиардов планет земного типа. Последние данные показали, что у каждой пятой солнцеподобной звезды в зоне обитаемости может быть по крайней мере одна планета. Меланистическая лиса. При мысли о самых красивых диких животных, лисы вряд ли приходят на ум первыми, но видели ли вы таких особей? Это невероятно редкая и великолепная крестовка, которая раньше часто встречалась в Америке, но вид почти истребили в 19 веке, из-за спроса на его уникальный мех. Королевский гепард. Заметили что-нибудь необычное в этом гепарде? Присмотритесь к его великолепной шкуре и сравните с более заурядными сородичами, и вы поймёте, почему королевские гепарды так высоко ценятся. Эти большие кошки, подвид обычного гепарда с редкой мутацией, которая даёт мех кремового цвета с большими пятнами и тремя тёмными широкими полосами, тянущимися от шеи до самого хвоста. Брошенный корабль. Начнём мы с истории об одном французском корабле под названием Босс-400. Вернее это был не совсем корабль, а баржа с краном. В 1994 году из-за сильнейшего шторма она села на мель. И как бы люди не пытались исправить положение, какой бы помощи буксировочной лодке они не прибегали, справиться со столь массивным судном им не удалось. Каменная колокольня среди глубоководного озера Резия в живописнейшем районе Италии приводит туристов в замешательство, а у местных жителей вызывает ностальгию и восхищению, ведь она находится в воде более чем 70 лет.'"
            ],
            "application/vnd.google.colaboratory.intrinsic+json": {
              "type": "string"
            }
          },
          "metadata": {},
          "execution_count": 13
        }
      ]
    },
    {
      "cell_type": "code",
      "source": [
        "word_error_rat_base = wer(ASR, text_base)\n",
        "character_error_rate_base = cer(ASR, text_base)"
      ],
      "metadata": {
        "id": "YRT94GyWIBPq"
      },
      "execution_count": 17,
      "outputs": []
    },
    {
      "cell_type": "code",
      "source": [
        "print(\"Word error rate base\",word_error_rat_base)\n",
        "print(\"Character error rate base\",character_error_rate_base)"
      ],
      "metadata": {
        "colab": {
          "base_uri": "https://localhost:8080/"
        },
        "id": "UdPdNVCoUlXZ",
        "outputId": "42ea705f-2908-4147-8a62-8899ea2db2af"
      },
      "execution_count": 19,
      "outputs": [
        {
          "output_type": "stream",
          "name": "stdout",
          "text": [
            "Word error rate base 0.2918918918918919\n",
            "Character error rate base 0.07197735543873837\n"
          ]
        }
      ]
    },
    {
      "cell_type": "code",
      "source": [
        "word_error_rat_large_v2 = wer(ASR, text_large_v2)\n",
        "character_error_large_v2= cer(ASR, text_large_v2)"
      ],
      "metadata": {
        "id": "Ob2jIpJk6Zjk"
      },
      "execution_count": 20,
      "outputs": []
    },
    {
      "cell_type": "code",
      "source": [
        "print(\"Word error rate large_v2\",word_error_rat_large_v2)\n",
        "print(\"Character error rate large_v2\",character_error_large_v2)"
      ],
      "metadata": {
        "colab": {
          "base_uri": "https://localhost:8080/"
        },
        "id": "bd9LAhWpQK5B",
        "outputId": "be67e14c-73ed-4255-b992-f07a38ab9abd"
      },
      "execution_count": 21,
      "outputs": [
        {
          "output_type": "stream",
          "name": "stdout",
          "text": [
            "Word error rate large_v2 0.06756756756756757\n",
            "Character error rate large_v2 0.010917913465426607\n"
          ]
        }
      ]
    },
    {
      "cell_type": "markdown",
      "source": [
        "Вывод: Выполнив данную лабораторную работу мы познакомились с технологией распознования речи, а именно с моделью Whisper. Применив разные размеры модели распознали аудиофайл и посчитайте метрики Word Error Rate и Character Error Rate."
      ],
      "metadata": {
        "id": "Y4Y1DPP4VtQn"
      }
    },
    {
      "cell_type": "code",
      "source": [],
      "metadata": {
        "id": "vWxYTNPuWgyU"
      },
      "execution_count": null,
      "outputs": []
    }
  ]
}